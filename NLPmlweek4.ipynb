{
  "cells": [
    {
      "cell_type": "code",
      "execution_count": null,
      "metadata": {
        "id": "X1ZDR6u806l9"
      },
      "outputs": [],
      "source": [
        ""
      ]
    },
    {
      "cell_type": "markdown",
      "metadata": {
        "id": "2F8Vu2dl2q9B"
      },
      "source": [
        ""
      ]
    },
    {
      "cell_type": "markdown",
      "metadata": {
        "id": "HLpjxjp42vHl"
      },
      "source": [
        "##Extracting files from drive"
      ]
    },
    {
      "cell_type": "code",
      "execution_count": 1,
      "metadata": {
        "colab": {
          "base_uri": "https://localhost:8080/"
        },
        "id": "upX7XXXs22Ur",
        "outputId": "f22152c0-ec19-434f-f270-1476a33a35a9"
      },
      "outputs": [
        {
          "output_type": "stream",
          "name": "stderr",
          "text": [
            "[nltk_data] Downloading package punkt to /root/nltk_data...\n",
            "[nltk_data]   Unzipping tokenizers/punkt.zip.\n"
          ]
        }
      ],
      "source": [
        "from sklearn.model_selection import train_test_split\n",
        "from sklearn.ensemble import RandomForestClassifier\n",
        "from sklearn.naive_bayes import MultinomialNB\n",
        "from google.colab import files\n",
        "from sklearn.metrics import ConfusionMatrixDisplay,confusion_matrix\n",
        "from sklearn.model_selection import cross_val_predict\n",
        "from sklearn.model_selection import StratifiedKFold\n",
        "from sklearn.linear_model import LogisticRegression\n",
        "from sklearn.metrics import log_loss, accuracy_score\n",
        "from sklearn.decomposition import NMF\n",
        "import re\n",
        "import nltk\n",
        "nltk.download('punkt')\n",
        "from sklearn.feature_extraction.text import TfidfVectorizer\n",
        "from sklearn.feature_extraction.text import CountVectorizer\n",
        "import numpy as np\n",
        "import matplotlib.pyplot as plt\n",
        "import pandas as pd \n",
        "from pydrive.auth import GoogleAuth \n",
        "from pydrive.drive import GoogleDrive\n",
        "from google.colab import auth\n",
        "from oauth2client.client import GoogleCredentials\n",
        "auth.authenticate_user()\n",
        "gauth = GoogleAuth()\n",
        "gauth.credentials = GoogleCredentials.get_application_default()\n",
        "drive = GoogleDrive(gauth)\n"
      ]
    },
    {
      "cell_type": "code",
      "execution_count": 2,
      "metadata": {
        "id": "w6DCK0Om5MOh"
      },
      "outputs": [],
      "source": [
        "import logging\n",
        "logging.getLogger('googleapiclient.discovery_cache').setLevel(logging.ERROR)"
      ]
    },
    {
      "cell_type": "code",
      "execution_count": 3,
      "metadata": {
        "colab": {
          "base_uri": "https://localhost:8080/"
        },
        "id": "IdlFp7iG5c3C",
        "outputId": "2f7692b2-3e30-41ae-e019-8cbbd7650f7e"
      },
      "outputs": [
        {
          "output_type": "stream",
          "name": "stdout",
          "text": [
            "title: test.csv, id: 1okR80ZxVUhO-vwjVxWCZPlxEwMHB7bT_\n",
            "title: train.csv, id: 1NRsxAdFEJsobXd2Hnq10C3azC7NXxTWO\n"
          ]
        }
      ],
      "source": [
        "file_list = drive.ListFile({'q': \"'1_wfRFg8V8Ioy-_-sP2_zryQ2TyDkX4Qy' in parents and trashed=false\"}).GetList()\n",
        "for file1 in file_list:\n",
        "  print('title: %s, id: %s' % (file1['title'], file1['id']))"
      ]
    },
    {
      "cell_type": "code",
      "execution_count": 4,
      "metadata": {
        "id": "TlUt4WqA6EEw"
      },
      "outputs": [],
      "source": [
        "trainDataDownloaded = drive.CreateFile({'id': '1NRsxAdFEJsobXd2Hnq10C3azC7NXxTWO'})\n",
        "trainDataDownloaded.GetContentFile('Train.csv')\n",
        "testDataDownloaded = drive.CreateFile({'id': '1okR80ZxVUhO-vwjVxWCZPlxEwMHB7bT_'})\n",
        "testDataDownloaded.GetContentFile('Test.csv')\n",
        "\n",
        "\n",
        "trainData =  pd.read_csv('Train.csv',low_memory=False)\n",
        "testData = pd.read_csv('Test.csv',low_memory=False)"
      ]
    },
    {
      "cell_type": "markdown",
      "source": [
        "## Step 1\n",
        "The problem consists of disaster tweet and is used to predict disaster status from text tweets. "
      ],
      "metadata": {
        "id": "VOyL4x6j9txe"
      }
    },
    {
      "cell_type": "markdown",
      "metadata": {
        "id": "zxzqc_rQ-uRH"
      },
      "source": [
        "## Step 2\n",
        "##Explorative Data Analysis, cleaning, and word statistics\n",
        "Training data consists of 1490 observations while testing data has 735 observations"
      ]
    },
    {
      "cell_type": "code",
      "execution_count": 5,
      "metadata": {
        "colab": {
          "base_uri": "https://localhost:8080/"
        },
        "id": "fX2WoR7z7QCQ",
        "outputId": "d92b7f70-a8f4-447e-c38f-dfc4c7129cfb"
      },
      "outputs": [
        {
          "output_type": "stream",
          "name": "stdout",
          "text": [
            "Basic information about BBC news classification training data\n",
            "Fist five columns are shown below\n",
            "   id keyword location                                               text  \\\n",
            "0   1     NaN      NaN  Our Deeds are the Reason of this #earthquake M...   \n",
            "1   4     NaN      NaN             Forest fire near La Ronge Sask. Canada   \n",
            "2   5     NaN      NaN  All residents asked to 'shelter in place' are ...   \n",
            "3   6     NaN      NaN  13,000 people receive #wildfires evacuation or...   \n",
            "4   7     NaN      NaN  Just got sent this photo from Ruby #Alaska as ...   \n",
            "\n",
            "   target  \n",
            "0       1  \n",
            "1       1  \n",
            "2       1  \n",
            "3       1  \n",
            "4       1  \n",
            "Information about the columns are shown below\n",
            "<class 'pandas.core.frame.DataFrame'>\n",
            "RangeIndex: 7613 entries, 0 to 7612\n",
            "Data columns (total 5 columns):\n",
            " #   Column    Non-Null Count  Dtype \n",
            "---  ------    --------------  ----- \n",
            " 0   id        7613 non-null   int64 \n",
            " 1   keyword   7552 non-null   object\n",
            " 2   location  5080 non-null   object\n",
            " 3   text      7613 non-null   object\n",
            " 4   target    7613 non-null   int64 \n",
            "dtypes: int64(2), object(3)\n",
            "memory usage: 297.5+ KB\n",
            "Number of rows of training data: 7613\n",
            "Number of rows of testing data: 3263\n"
          ]
        }
      ],
      "source": [
        "print(\"Basic information about BBC news classification training data\")\n",
        "print(\"Fist five columns are shown below\")\n",
        "print(trainData.head())\n",
        "print(\"Information about the columns are shown below\")\n",
        "trainData.info()\n",
        "\n",
        "print(\"Number of rows of training data:\",trainData.shape[0])\n",
        "print(\"Number of rows of testing data:\",testData.shape[0])\n"
      ]
    },
    {
      "cell_type": "markdown",
      "metadata": {
        "id": "5quvKcPnaAjW"
      },
      "source": [
        "##Visualiztion of data\n",
        "Basic EDA of the columns of train data is performed."
      ]
    },
    {
      "cell_type": "code",
      "execution_count": 6,
      "metadata": {
        "colab": {
          "base_uri": "https://localhost:8080/",
          "height": 350
        },
        "id": "ha1w2I0w-z-k",
        "outputId": "a64230fb-1a1d-48f2-a8bf-5e43eabe3ab7"
      },
      "outputs": [
        {
          "output_type": "stream",
          "name": "stdout",
          "text": [
            "Category Histogram\n"
          ]
        },
        {
          "output_type": "display_data",
          "data": {
            "text/plain": [
              "<Figure size 432x288 with 1 Axes>"
            ],
            "image/png": "[encoded data removed]"
          },
          "metadata": {
            "needs_background": "light"
          }
        },
        {
          "output_type": "stream",
          "name": "stdout",
          "text": [
            "End of graph\n",
            " \n",
            " \n"
          ]
        }
      ],
      "source": [
        "print(\"Category Histogram\")\n",
        "histogramCategoryx = plt.hist(trainData['target'])\n",
        "plt.title(\"Count of target values histogram\")\n",
        "plt.show()\n",
        "print(\"End of graph\")\n",
        "print(\" \")\n",
        "print(\" \")\n"
      ]
    },
    {
      "cell_type": "code",
      "execution_count": 7,
      "metadata": {
        "id": "IjayqRfOZ2Ww",
        "colab": {
          "base_uri": "https://localhost:8080/"
        },
        "outputId": "8e089f77-8062-4335-dba3-5e16b941acb2"
      },
      "outputs": [
        {
          "output_type": "stream",
          "name": "stdout",
          "text": [
            "Top 10 location values\n"
          ]
        },
        {
          "output_type": "execute_result",
          "data": {
            "text/plain": [
              "USA                104\n",
              "New York            71\n",
              "United States       50\n",
              "London              45\n",
              "Canada              29\n",
              "Nigeria             28\n",
              "UK                  27\n",
              "Los Angeles, CA     26\n",
              "India               24\n",
              "Mumbai              22\n",
              "Name: location, dtype: int64"
            ]
          },
          "metadata": {},
          "execution_count": 7
        }
      ],
      "source": [
        "print(\"Top 10 location values\")\n",
        "trainData['location'].value_counts()[:10]"
      ]
    },
    {
      "cell_type": "code",
      "execution_count": 8,
      "metadata": {
        "colab": {
          "base_uri": "https://localhost:8080/",
          "height": 382
        },
        "id": "YQUQDz8NEkZe",
        "outputId": "15a244a1-428e-46f3-f98d-99f1e5cafed7"
      },
      "outputs": [
        {
          "output_type": "stream",
          "name": "stdout",
          "text": [
            "Word statistics of text colummn\n",
            "10 most common words: ['like' 'just' 'im' 'amp' 'new' 'dont' 'people' 'news' 'video' 'emergency']\n"
          ]
        },
        {
          "output_type": "display_data",
          "data": {
            "text/plain": [
              "<Figure size 432x288 with 1 Axes>"
            ],
            "image/png": "[encoded data removed]"
          },
          "metadata": {
            "needs_background": "light"
          }
        },
        {
          "output_type": "stream",
          "name": "stdout",
          "text": [
            "End of graph\n",
            " \n",
            " \n"
          ]
        }
      ],
      "source": [
        "#Word Frequrncy of text coulmn in  train data\n",
        "trainDataTextLowerCase = [x.lower() for x in trainData['text']] #lowercase\n",
        "# eliminate the punctuation, URL, and @\n",
        "cleanedTrainDataText = [re.sub(r\"(@\\[A-Za-z0-9]+)|([^0-9A-Za-z \\t])|(\\w+:\\/\\/\\S+)|^rt|http.+?\", \"\", x) for x in  trainDataTextLowerCase] \n",
        "\n",
        "print(\"Word statistics of text colummn\")\n",
        "\n",
        "vectorizer = CountVectorizer(  stop_words = 'english')\n",
        "X = vectorizer.fit_transform(cleanedTrainDataText)\n",
        "#print(vectorizer.get_feature_names_out()[:10])\n",
        "wordFreq = np.asarray(X.sum(axis=0))[0]\n",
        "#print(np.sort(wordFreq)[::-1])\n",
        "sortedFeaturename = vectorizer.get_feature_names_out()[np.argsort(wordFreq)[::-1]][:10]\n",
        "print(\"10 most common words:\",sortedFeaturename[:10])\n",
        "barChartValues = np.sort(wordFreq)[::-1][:10]\n",
        "plt.plot\n",
        "\n",
        "plt.bar(sortedFeaturename, barChartValues, color ='maroon',width = 0.4)\n",
        " \n",
        "plt.xlabel(\"Words\")\n",
        "plt.ylabel(\"Frequency\")\n",
        "plt.title(\"Word frequency of 10 most frequent words in text\")\n",
        "plt.show()\n",
        "print(\"End of graph\")\n",
        "print(\" \")\n",
        "print(\" \")\n"
      ]
    },
    {
      "cell_type": "markdown",
      "metadata": {
        "id": "Wb9iIfdUGvwv"
      },
      "source": [
        "\n",
        "Word embeddings\n",
        "\n",
        "\n"
      ]
    },
    {
      "cell_type": "markdown",
      "metadata": {
        "id": "dzpB-wRxXckd"
      },
      "source": [
        "Word embeddings is a type of techniques where words are represented as real-valued vectors in a predefined vector space. Each word is mapped to one vector "
      ]
    },
    {
      "cell_type": "code",
      "execution_count": 11,
      "metadata": {
        "id": "jcCIJ-27g-1i"
      },
      "outputs": [],
      "source": [
        "#Keras and numpy libraries\n",
        "import numpy as np\n",
        "seed = 7\n",
        "np.random.seed(seed)\n",
        "import tensorflow as tf\n",
        "from keras.models import Sequential\n",
        "from keras.layers import Dense, Dropout\n",
        "from keras.layers import Flatten\n",
        "from keras.layers.embeddings import Embedding\n",
        "from keras.preprocessing import sequence\n",
        "from keras.preprocessing.text import Tokenizer\n",
        "from keras.preprocessing.sequence import pad_sequences\n",
        "from keras.layers import Dense, Embedding, LSTM\n",
        "from tensorflow.keras.optimizers import Adam\n",
        "\n",
        "\n",
        "BUFFER_SIZE = 10000\n",
        "BATCH_SIZE = 64\n",
        "\n",
        "\n",
        "import matplotlib.pyplot as plt\n",
        "\n",
        "\n",
        "def plot_graphs(history, metric):\n",
        "  plt.plot(history.history[metric])\n",
        "  plt.plot(history.history['val_'+metric], '')\n",
        "  plt.xlabel(\"Epochs\")\n",
        "  plt.ylabel(metric)\n",
        "  plt.legend([metric, 'val_'+metric])\n",
        "\n"
      ]
    },
    {
      "cell_type": "markdown",
      "source": [
        "## Step 3\n",
        "## Model architecture \n",
        "Keras tokenizer is used to tokenize the words and the first word embeding layer of the neural network is used to conver the word token to sequence which is used to feed into the subsequent RNN layers.\n",
        "\n",
        "The RNN network consists of a single LSTM layers. The first layers has 196 units. Lastly, the RNN layers are connected to a Dense layer which produces a single output with sigmoid activation. This model produced a vaidation accuracy of 0.75"
      ],
      "metadata": {
        "id": "r3mNks6XSQ7s"
      }
    },
    {
      "cell_type": "code",
      "execution_count": 64,
      "metadata": {
        "colab": {
          "base_uri": "https://localhost:8080/"
        },
        "id": "fUYNZERdN1Ir",
        "outputId": "2996bc05-3a58-427a-c8a7-52dcbf59642f"
      },
      "outputs": [
        {
          "output_type": "stream",
          "name": "stdout",
          "text": [
            "Model: \"sequential_16\"\n",
            "_________________________________________________________________\n",
            " Layer (type)                Output Shape              Param #   \n",
            "=================================================================\n",
            " embedding_16 (Embedding)    (None, 5000, 196)         980000    \n",
            "                                                                 \n",
            " dropout_17 (Dropout)        (None, 5000, 196)         0         \n",
            "                                                                 \n",
            " lstm_29 (LSTM)              (None, 196)               308112    \n",
            "                                                                 \n",
            " dropout_18 (Dropout)        (None, 196)               0         \n",
            "                                                                 \n",
            " dense_17 (Dense)            (None, 1)                 197       \n",
            "                                                                 \n",
            "=================================================================\n",
            "Total params: 1,288,309\n",
            "Trainable params: 1,288,309\n",
            "Non-trainable params: 0\n",
            "_________________________________________________________________\n",
            "None\n"
          ]
        }
      ],
      "source": [
        "\n",
        "\n",
        "num_words = 5000\n",
        "tokenizer = Tokenizer(num_words=num_words)\n",
        "tokenizer.fit_on_texts(trainData['text'].values)\n",
        "# Pad the data \n",
        "X = tokenizer.texts_to_sequences(trainData['text'].values)\n",
        "X = pad_sequences(X, maxlen=num_words)\n",
        "# Build out our simple LSTM\n",
        "num_words = 5000\n",
        "embed_dim = 196\n",
        "lstm_out = 196\n",
        "\n",
        "\n",
        "\n",
        "\n",
        "model = Sequential()\n",
        "model.add(Embedding(num_words, embed_dim, input_length = X.shape[1]))\n",
        "model.add(tf.keras.layers.Dropout(0.4))\n",
        "model.add(LSTM(lstm_out))\n",
        "model.add(tf.keras.layers.Dropout(0.1))\n",
        "model.add(Dense(1,activation='sigmoid'))\n",
        "model.compile(loss = 'binary_crossentropy', optimizer='adam', metrics = ['accuracy'])\n",
        "print(model.summary())"
      ]
    },
    {
      "cell_type": "code",
      "execution_count": 65,
      "metadata": {
        "colab": {
          "base_uri": "https://localhost:8080/"
        },
        "id": "twnR3oHjOLYe",
        "outputId": "2e8adc81-e3ec-4243-ede8-b997620f6006"
      },
      "outputs": [
        {
          "output_type": "stream",
          "name": "stdout",
          "text": [
            "Epoch 1/10\n",
            "160/160 [==============================] - 56s 340ms/step - loss: 0.5593 - accuracy: 0.7173 - val_loss: 0.4789 - val_accuracy: 0.7851\n",
            "Epoch 2/10\n",
            "160/160 [==============================] - 58s 366ms/step - loss: 0.3659 - accuracy: 0.8476 - val_loss: 0.4990 - val_accuracy: 0.7632\n",
            "Epoch 3/10\n",
            "160/160 [==============================] - 51s 320ms/step - loss: 0.2897 - accuracy: 0.8857 - val_loss: 0.5091 - val_accuracy: 0.7648\n",
            "Epoch 4/10\n",
            "160/160 [==============================] - 53s 333ms/step - loss: 0.2349 - accuracy: 0.9106 - val_loss: 0.6230 - val_accuracy: 0.7541\n",
            "Epoch 5/10\n",
            "160/160 [==============================] - 51s 319ms/step - loss: 0.1830 - accuracy: 0.9312 - val_loss: 0.6279 - val_accuracy: 0.7342\n",
            "Epoch 6/10\n",
            "160/160 [==============================] - 56s 351ms/step - loss: 0.1468 - accuracy: 0.9449 - val_loss: 0.7935 - val_accuracy: 0.7405\n",
            "Epoch 7/10\n",
            "160/160 [==============================] - 55s 343ms/step - loss: 0.1164 - accuracy: 0.9571 - val_loss: 0.9255 - val_accuracy: 0.7230\n",
            "Epoch 8/10\n",
            "160/160 [==============================] - 50s 310ms/step - loss: 0.0959 - accuracy: 0.9641 - val_loss: 1.0767 - val_accuracy: 0.7330\n",
            "Epoch 9/10\n",
            "160/160 [==============================] - 52s 327ms/step - loss: 0.0856 - accuracy: 0.9655 - val_loss: 1.1218 - val_accuracy: 0.7362\n",
            "Epoch 10/10\n",
            "160/160 [==============================] - 49s 306ms/step - loss: 0.0740 - accuracy: 0.9714 - val_loss: 1.1845 - val_accuracy: 0.7378\n"
          ]
        }
      ],
      "source": [
        "batch_size = 32\n",
        "history = model.fit(X, trainData['target'], epochs=10, batch_size=batch_size, validation_split=0.33)\n",
        "# Validation accuracy of basic model is 0.74"
      ]
    },
    {
      "cell_type": "markdown",
      "source": [
        "## Results and Analyisis\n",
        "##More models and results"
      ],
      "metadata": {
        "id": "4X3EmYig6uZB"
      }
    },
    {
      "cell_type": "code",
      "source": [
        "from pandas.errors import PerformanceWarning\n",
        "tokenizer = Tokenizer(num_words=5000)\n",
        "tokenizer.fit_on_texts(testData['text'].values)\n",
        "# Pad the data \n",
        "testDataX = tokenizer.texts_to_sequences(testData['text'].values)\n",
        "testDataX = pad_sequences(testDataX, maxlen=5000)\n",
        "\n",
        "\n",
        "preds = model.predict(testDataX)\n",
        "\n",
        "print(preds.shape)\n",
        "print(preds[0:10])\n",
        "preds=preds.reshape(-1)\n",
        "print(preds.shape)\n",
        "for i in range(len(preds)):\n",
        "  if(preds[i]>0.7):\n",
        "    preds[i] = 1\n",
        "  else:\n",
        "    preds[i] = 0\n",
        "preds=  np.floor(preds).astype(int)\n",
        "\n",
        "dfsub = pd.DataFrame({'id' : testData['id'].to_list(),'target': preds})\n",
        "dfsub.to_csv('BasicModelSubmission.csv', index=False)"
      ],
      "metadata": {
        "colab": {
          "base_uri": "https://localhost:8080/"
        },
        "id": "fyiR86Cot842",
        "outputId": "2c88ffdc-f2b6-4b69-9613-4e7898b72b47"
      },
      "execution_count": 60,
      "outputs": [
        {
          "output_type": "stream",
          "name": "stdout",
          "text": [
            "(3263, 1)\n",
            "[[0.8656858 ]\n",
            " [0.12255223]\n",
            " [0.17794283]\n",
            " [0.5275413 ]\n",
            " [0.8442236 ]\n",
            " [0.1250673 ]\n",
            " [0.24643575]\n",
            " [0.07825648]\n",
            " [0.1996473 ]\n",
            " [0.19260642]]\n",
            "(3263,)\n"
          ]
        }
      ]
    },
    {
      "cell_type": "markdown",
      "source": [
        "## Result of basic model"
      ],
      "metadata": {
        "id": "f0qRFmrX8FLn"
      }
    },
    {
      "cell_type": "code",
      "execution_count": 67,
      "metadata": {
        "colab": {
          "base_uri": "https://localhost:8080/",
          "height": 536
        },
        "id": "BG3KKCfeT0Qo",
        "outputId": "ec0f368d-32da-4a4d-fd29-80c6777a3993"
      },
      "outputs": [
        {
          "output_type": "stream",
          "name": "stdout",
          "text": [
            "Results of model with 5000 max words, single LSTM layers (196 ), two dropout layer and one dense layer with sigmoid activation layer.\n"
          ]
        },
        {
          "output_type": "execute_result",
          "data": {
            "text/plain": [
              "(0.0, 1.2400347273796797)"
            ]
          },
          "metadata": {},
          "execution_count": 67
        },
        {
          "output_type": "display_data",
          "data": {
            "text/plain": [
              "<Figure size 1152x576 with 2 Axes>"
            ],
            "image/png": "[encoded data removed]"
          },
          "metadata": {
            "needs_background": "light"
          }
        }
      ],
      "source": [
        "print(\"Results of model with 5000 max words, single LSTM layers (196 ), two dropout layer and one dense layer with sigmoid activation layer.\")\n",
        "plt.figure(figsize=(16, 8))\n",
        "plt.subplot(1, 2, 1)\n",
        "plot_graphs(history, 'accuracy')\n",
        "plt.ylim(None, 1)\n",
        "plt.subplot(1, 2, 2)\n",
        "plot_graphs(history, 'loss')\n",
        "plt.ylim(0, None)"
      ]
    },
    {
      "cell_type": "code",
      "source": [
        "## Step 4\n",
        "## Results and Analysis \n"
      ],
      "metadata": {
        "id": "n2qkkFcLVjV0"
      },
      "execution_count": null,
      "outputs": []
    },
    {
      "cell_type": "markdown",
      "source": [
        "## A more advaced model\n",
        "RNN model consists of three LSTM layers and dropouts for each layer and ond dense layer with single output with sigmoid activation layer"
      ],
      "metadata": {
        "id": "DT0vp39lZcQP"
      }
    },
    {
      "cell_type": "code",
      "source": [
        "\n",
        "num_words = 2000\n",
        "embed_dim = 128\n",
        "lstm_out = 196\n",
        "tokenizer = Tokenizer(num_words=num_words)\n",
        "tokenizer.fit_on_texts(trainData['text'].values)\n",
        "# Pad the data \n",
        "X = tokenizer.texts_to_sequences(trainData['text'].values)\n",
        "X = pad_sequences(X, maxlen=2000)\n",
        "model2 = Sequential()\n",
        "model2.add(Embedding(2000, embed_dim, input_length = X.shape[1]))\n",
        "model2.add(LSTM(196,return_sequences=True))\n",
        "model2.add(Dropout(0.3))\n",
        "model2.add(LSTM(64,return_sequences=True))\n",
        "model2.add(Dropout(0.2))\n",
        "model2.add(LSTM(32,return_sequences=True))\n",
        "model2.add(Dropout(0.1))\n",
        "model2.add(Dense(1,activation='sigmoid'))\n",
        "optimizer       = Adam(learning_rate=0.0001)   \n",
        "model2.compile(loss = 'binary_crossentropy', optimizer=optimizer, metrics = ['accuracy'])\n",
        "print(model2.summary())\n",
        "\n",
        "batch_size = 32\n",
        "historyAdvanced = model2.fit(X, trainData['target'], epochs=4, batch_size=batch_size, validation_split=0.35)\n",
        "\n"
      ],
      "metadata": {
        "colab": {
          "base_uri": "https://localhost:8080/"
        },
        "id": "9TDAzlXvV6Z6",
        "outputId": "4642d7dc-27ae-4934-edf9-af869db47fb6"
      },
      "execution_count": 61,
      "outputs": [
        {
          "output_type": "stream",
          "name": "stdout",
          "text": [
            "Model: \"sequential_15\"\n",
            "_________________________________________________________________\n",
            " Layer (type)                Output Shape              Param #   \n",
            "=================================================================\n",
            " embedding_15 (Embedding)    (None, 2000, 128)         256000    \n",
            "                                                                 \n",
            " lstm_26 (LSTM)              (None, 2000, 196)         254800    \n",
            "                                                                 \n",
            " dropout_14 (Dropout)        (None, 2000, 196)         0         \n",
            "                                                                 \n",
            " lstm_27 (LSTM)              (None, 2000, 64)          66816     \n",
            "                                                                 \n",
            " dropout_15 (Dropout)        (None, 2000, 64)          0         \n",
            "                                                                 \n",
            " lstm_28 (LSTM)              (None, 2000, 32)          12416     \n",
            "                                                                 \n",
            " dropout_16 (Dropout)        (None, 2000, 32)          0         \n",
            "                                                                 \n",
            " dense_16 (Dense)            (None, 2000, 1)           33        \n",
            "                                                                 \n",
            "=================================================================\n",
            "Total params: 590,065\n",
            "Trainable params: 590,065\n",
            "Non-trainable params: 0\n",
            "_________________________________________________________________\n",
            "None\n",
            "Epoch 1/4\n",
            "155/155 [==============================] - 44s 248ms/step - loss: 0.6831 - accuracy: 0.5769 - val_loss: 0.6874 - val_accuracy: 0.5546\n",
            "Epoch 2/4\n",
            "155/155 [==============================] - 38s 242ms/step - loss: 0.6816 - accuracy: 0.5788 - val_loss: 0.6877 - val_accuracy: 0.5546\n",
            "Epoch 3/4\n",
            "155/155 [==============================] - 38s 247ms/step - loss: 0.6811 - accuracy: 0.5788 - val_loss: 0.6881 - val_accuracy: 0.5546\n",
            "Epoch 4/4\n",
            "155/155 [==============================] - 38s 244ms/step - loss: 0.6811 - accuracy: 0.5788 - val_loss: 0.6892 - val_accuracy: 0.5546\n"
          ]
        }
      ]
    },
    {
      "cell_type": "markdown",
      "source": [
        "## The advanced model produced a val_accuracy of 0.5546. This low score could be due to over fitting\n",
        "## Result of advanced model"
      ],
      "metadata": {
        "id": "2FzdNz7r69vl"
      }
    },
    {
      "cell_type": "code",
      "source": [
        "print(\"Results of model with 5000 max words, thee LSTM layers (196 ), three dropout layers and one dense layer with sigmoid activation layer.\")\n",
        "plt.figure(figsize=(16, 8))\n",
        "plt.subplot(1, 2, 1)\n",
        "plot_graphs(historyAdvanced, 'accuracy')\n",
        "plt.ylim(None, 0.6)\n",
        "plt.subplot(1, 2, 2)\n",
        "plot_graphs(historyAdvanced, 'loss')\n",
        "plt.ylim(0.5, None)"
      ],
      "metadata": {
        "colab": {
          "base_uri": "https://localhost:8080/",
          "height": 536
        },
        "id": "h32EVAQA6h-v",
        "outputId": "d2a39d09-8007-446f-a081-bacc68053c49"
      },
      "execution_count": 70,
      "outputs": [
        {
          "output_type": "stream",
          "name": "stdout",
          "text": [
            "Results of model with 5000 max words, thee LSTM layers (196 ), three dropout layers and one dense layer with sigmoid activation layer.\n"
          ]
        },
        {
          "output_type": "execute_result",
          "data": {
            "text/plain": [
              "(0.5, 0.6896451562643051)"
            ]
          },
          "metadata": {},
          "execution_count": 70
        },
        {
          "output_type": "display_data",
          "data": {
            "text/plain": [
              "<Figure size 1152x576 with 2 Axes>"
            ],
            "image/png": "[encoded data removed]"
          },
          "metadata": {
            "needs_background": "light"
          }
        }
      ]
    },
    {
      "cell_type": "markdown",
      "source": [
        "## Hyperparameter tuning of number of layers in intermediate LSTM and that of two different learning rate can be observed below."
      ],
      "metadata": {
        "id": "Er58mPjT7Ome"
      }
    },
    {
      "cell_type": "code",
      "execution_count": 16,
      "metadata": {
        "id": "M0ggH84gTOSo"
      },
      "outputs": [],
      "source": [
        "!pip install -q -U keras-tuner\n",
        "import keras\n",
        "import keras_tuner as kt\n",
        "num_words = 2000\n",
        "embed_dim = 256\n",
        "lstm_out = 196\n",
        "\n",
        "num_words = 2000\n",
        "embed_dim = 128\n",
        "lstm_out = 196\n",
        "tokenizer = Tokenizer(num_words=num_words)\n",
        "tokenizer.fit_on_texts(trainData['text'].values)\n",
        "# Pad the data \n",
        "X = tokenizer.texts_to_sequences(trainData['text'].values)\n",
        "X = pad_sequences(X, maxlen=2000)\n",
        "\n",
        "def model_builder(hp):\n",
        "\n",
        "  \n",
        "  model = Sequential()\n",
        "  model.add(Embedding(num_words, embed_dim, input_length = X.shape[1]))\n",
        "  model.add(LSTM(lstm_out,return_sequences=True))\n",
        "  hp_units = hp.Int('units', min_value=32, max_value=256, step=32)\n",
        "  model.add(LSTM(units = hp_units))\n",
        "  model.add(Dense(1,activation='sigmoid'))\n",
        "  model.compile(loss = 'binary_crossentropy', optimizer='adam', metrics = ['accuracy'])\n",
        "  \n",
        "  model.add(Flatten())\n",
        "  \n",
        "\n",
        "  model.add(Dropout(0.2))\n",
        "  model.add(Dense(1, activation = 'sigmoid'))\n",
        "\n",
        "  # Tune the learning rate for the optimizer\n",
        "  # Choose an optimal value from 0.01, 0.001, or 0.0001\n",
        "  hp_learning_rate = hp.Choice('learning_rate', values=[ 1e-3, 1e-4])\n",
        "\n",
        "\n",
        "  model.compile(loss='binary_crossentropy', optimizer=Adam(learning_rate=hp_learning_rate),\n",
        "                metrics = ['accuracy'])\n",
        "\n",
        "  return model"
      ]
    },
    {
      "cell_type": "code",
      "execution_count": 17,
      "metadata": {
        "colab": {
          "base_uri": "https://localhost:8080/"
        },
        "id": "YzZPkp-iVesm",
        "outputId": "4278a889-d6c3-42be-e269-8e7f573ffd9a"
      },
      "outputs": [
        {
          "output_type": "stream",
          "name": "stdout",
          "text": [
            "Trial 22 Complete [00h 03m 25s]\n",
            "val_accuracy: 0.5515320301055908\n",
            "\n",
            "Best val_accuracy So Far: 0.7807401418685913\n",
            "Total elapsed time: 00h 38m 18s\n",
            "INFO:tensorflow:Oracle triggered exit\n"
          ]
        }
      ],
      "source": [
        "batch_size = 32\n",
        "tuner = kt.Hyperband(model_builder,\n",
        "                     objective='val_accuracy',\n",
        "                     max_epochs=10,\n",
        "                     factor=3,\n",
        "                     project_name='kt')\n",
        "  \n",
        "tuner.search(X, trainData['target'], epochs=5, batch_size=batch_size, validation_split=0.33)\n"
      ]
    },
    {
      "cell_type": "code",
      "source": [
        "best_hps=tuner.get_best_hyperparameters(num_trials=1)[0]\n",
        "print(f\"\"\"\n",
        "The hyperparameter search is complete. The optimal number of units in the final densely-connected\n",
        "layer is {best_hps.get('units')} and the optimal learning rate for the optimizer\n",
        "is {best_hps.get('learning_rate')}.\n",
        "\"\"\")\n",
        "print(\"Best val_accuracy So Far: 0.78\")"
      ],
      "metadata": {
        "colab": {
          "base_uri": "https://localhost:8080/"
        },
        "id": "Q1pXigiEa5Q3",
        "outputId": "c06c2a5a-e3d8-4cdb-c50c-3900c6da850e"
      },
      "execution_count": 26,
      "outputs": [
        {
          "output_type": "stream",
          "name": "stdout",
          "text": [
            "\n",
            "The hyperparameter search is complete. The optimal number of units in the final densely-connected\n",
            "layer is 32 and the optimal learning rate for the optimizer\n",
            "is 0.001.\n",
            "\n",
            "Best val_accuracy So Far: 0.78\n"
          ]
        }
      ]
    },
    {
      "cell_type": "code",
      "source": [
        "hypermodel = tuner.hypermodel.build(best_hps)\n",
        "\n",
        "# Retrain the model\n",
        "hypermodel.fit(X, trainData['target'], epochs=5, batch_size=batch_size, validation_split=0.33)\n",
        "\n",
        "\n",
        "\n"
      ],
      "metadata": {
        "colab": {
          "base_uri": "https://localhost:8080/"
        },
        "id": "fuFTqpBXm8WD",
        "outputId": "abbc693a-45e9-4e39-9c8c-37a84496b269"
      },
      "execution_count": 41,
      "outputs": [
        {
          "output_type": "stream",
          "name": "stdout",
          "text": [
            "Epoch 1/5\n",
            "160/160 [==============================] - 31s 176ms/step - loss: 0.6934 - accuracy: 0.5649 - val_loss: 0.6895 - val_accuracy: 0.5515\n",
            "Epoch 2/5\n",
            "160/160 [==============================] - 28s 174ms/step - loss: 0.6852 - accuracy: 0.5796 - val_loss: 0.6881 - val_accuracy: 0.5515\n",
            "Epoch 3/5\n",
            "160/160 [==============================] - 27s 168ms/step - loss: 0.6827 - accuracy: 0.5796 - val_loss: 0.6878 - val_accuracy: 0.5515\n",
            "Epoch 4/5\n",
            "160/160 [==============================] - 32s 198ms/step - loss: 0.6815 - accuracy: 0.5796 - val_loss: 0.6880 - val_accuracy: 0.5515\n",
            "Epoch 5/5\n",
            "160/160 [==============================] - 28s 173ms/step - loss: 0.6809 - accuracy: 0.5796 - val_loss: 0.6883 - val_accuracy: 0.5515\n"
          ]
        },
        {
          "output_type": "execute_result",
          "data": {
            "text/plain": [
              "<keras.callbacks.History at 0x7f28c9890150>"
            ]
          },
          "metadata": {},
          "execution_count": 41
        }
      ]
    },
    {
      "cell_type": "markdown",
      "source": [
        "#Hyperparameter Model Submission"
      ],
      "metadata": {
        "id": "FG1jCeqG7kWR"
      }
    },
    {
      "cell_type": "code",
      "source": [
        "tokenizer = Tokenizer(num_words=num_words)\n",
        "tokenizer.fit_on_texts(testData['text'].values)\n",
        "# Pad the data \n",
        "testDataX = tokenizer.texts_to_sequences(testData['text'].values)\n",
        "testDataX = pad_sequences(testDataX, maxlen=2000)\n",
        "\n",
        "\n",
        "preds = hypermodel.predict(testDataX)\n",
        "print(preds[0:10])\n",
        "print(preds.shape)\n",
        "preds=preds.reshape(-1)\n",
        "print(preds.shape)\n",
        "for i in range(len(preds)):\n",
        "  if(preds[i]>0.4):\n",
        "    preds[i] = 1\n",
        "  else:\n",
        "    preds[i] = 0\n",
        "preds=  np.floor(preds).astype(int)\n",
        "\n",
        "dfsub = pd.DataFrame({'id' : testData['id'].to_list(),'target': preds})\n",
        "dfsub.to_csv('HyperModelSubmission.csv', index=False)"
      ],
      "metadata": {
        "colab": {
          "base_uri": "https://localhost:8080/"
        },
        "id": "S-aO738_rtRm",
        "outputId": "3b85caea-9ebe-4212-b44c-d604ce763c79"
      },
      "execution_count": 42,
      "outputs": [
        {
          "output_type": "stream",
          "name": "stdout",
          "text": [
            "[[0.43274698]\n",
            " [0.43274698]\n",
            " [0.43274698]\n",
            " [0.43274698]\n",
            " [0.43274698]\n",
            " [0.43274698]\n",
            " [0.43274698]\n",
            " [0.43274692]\n",
            " [0.43274698]\n",
            " [0.43274692]]\n",
            "(3263, 1)\n",
            "(3263,)\n"
          ]
        }
      ]
    },
    {
      "cell_type": "code",
      "source": [
        "print(preds[0:10])"
      ],
      "metadata": {
        "colab": {
          "base_uri": "https://localhost:8080/"
        },
        "id": "YJLEn-6UqFuB",
        "outputId": "98170dd7-4c78-4f2b-a92e-2440daad3eee"
      },
      "execution_count": 25,
      "outputs": [
        {
          "output_type": "stream",
          "name": "stdout",
          "text": [
            "[1 0 0 1 1 0 1 0 1 0]\n"
          ]
        }
      ]
    },
    {
      "cell_type": "code",
      "source": [
        "from tensorflow.python.client import device_lib\n",
        "device_lib.list_local_devices()"
      ],
      "metadata": {
        "id": "Grrk6yAvqiqV"
      },
      "execution_count": null,
      "outputs": []
    },
    {
      "cell_type": "code",
      "execution_count": null,
      "metadata": {
        "colab": {
          "base_uri": "https://localhost:8080/"
        },
        "id": "-JI2mIHlV3jJ",
        "outputId": "f99d8e5c-c93a-4c97-90c4-39689db9ab0a"
      },
      "outputs": [
        {
          "name": "stdout",
          "output_type": "stream",
          "text": [
            "(3263, 2000)\n",
            "3263\n",
            "3263\n"
          ]
        }
      ],
      "source": [
        "\n",
        "dfsub = pd.read_csv('HyperModelSubmission.csv')\n",
        "print(dfsub.head())"
      ]
    },
    {
      "cell_type": "markdown",
      "metadata": {
        "id": "iZ_BwBnpXIdI"
      },
      "source": [
        "Resources used:\n",
        "\n",
        "https://machinelearningmastery.com/what-are-word-embeddings/\n",
        "https://scikit-learn.org/stable/modules/generated/sklearn.model_selection.train_test_split.html\n",
        "https://scikit-learn.org/stable/modules/generated/sklearn.feature_extraction.text.TfidfVectorizer.html\n",
        "https://www.tensorflow.org/\n",
        "\n",
        "https://www.tensorflow.org/api_docs/python/tf/keras/layers/Dropout\n",
        "https://en.wikipedia.org/wiki/Word_embedding\n"
      ]
    }
  ],
  "metadata": {
    "accelerator": "GPU",
    "colab": {
      "collapsed_sections": [],
      "name": "NLPmlweek4.ipynb",
      "provenance": []
    },
    "gpuClass": "standard",
    "kernelspec": {
      "display_name": "Python 3",
      "name": "python3"
    },
    "language_info": {
      "name": "python"
    }
  },
  "nbformat": 4,
  "nbformat_minor": 0
}